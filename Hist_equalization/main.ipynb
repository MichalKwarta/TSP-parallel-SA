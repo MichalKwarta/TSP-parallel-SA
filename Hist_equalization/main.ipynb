{
 "cells": [
  {
   "cell_type": "code",
   "execution_count": 149,
   "metadata": {},
   "outputs": [],
   "source": [
    "import matplotlib.pyplot as plt\n",
    "from PIL import Image\n",
    "import numpy as np"
   ]
  },
  {
   "cell_type": "code",
   "execution_count": 150,
   "metadata": {},
   "outputs": [],
   "source": [
    "def myseq_with_plotting(pixelMatrix,grayLevels = 256):\n",
    "    H,W = pixelsMatrix.shape\n",
    "    size = H*W\n",
    "    occurrencies = [0.0 for _ in range(grayLevels)]\n",
    "    pixels_flattened = pixelMatrix.flatten()\n",
    "    for pixel in pixels_flattened:\n",
    "        occurrencies[pixel]+=1\n",
    "    cdf = [sum(occurrencies[:i+1]) for i in range(grayLevels)]\n",
    "    cdfmin = next((x for x in cdf if x),-1)\n",
    "    h = [round((cdf[v]-cdfmin)/(size-cdfmin) * (grayLevels-1)) for v in range(grayLevels)]\n",
    "\n",
    "    for id,pixel in enumerate(pixels_flattened):\n",
    "        pixels_flattened[id] = h[pixel]\n",
    "\n",
    "    occurrencies_equalized = [0.0 for _ in range(grayLevels)]\n",
    "    for pixel in pixels_flattened:\n",
    "        occurrencies_equalized[pixel]+=1\n",
    "\n",
    "    reshaped_image = np.reshape(pixels_flattened,(W,H))\n",
    "    \n",
    "    plt.bar(range(grayLevels),occurrencies_equalized,label = 'equalized')\n",
    "    plt.bar(range(grayLevels),occurrencies,label = 'original')\n",
    "    plt.legend()\n",
    "    return Image.fromarray(reshaped_image)\n"
   ]
  },
  {
   "cell_type": "code",
   "execution_count": 151,
   "metadata": {},
   "outputs": [],
   "source": [
    "def sequential(pixelMatrix,grayLevels = 256) -> np.ndarray:\n",
    "    H,W = pixelMatrix.shape\n",
    "    size = H*W\n",
    "    occurencies = [0.0 for _ in range(grayLevels)]\n",
    "    pixels_flattened = pixelMatrix.flatten()\n",
    "    for pixel in pixels_flattened:\n",
    "        occurencies[pixel]+=1\n",
    "    cdf = [int(sum(occurencies[:i+1])) for i in range(grayLevels)]\n",
    "    cdfmin = next((x for x in cdf if x),-1)\n",
    "\n",
    "    h = [round((cdf[v]-cdfmin)/(size-cdfmin) * (grayLevels-1)) for v in range(grayLevels)]\n",
    "    for id,pixel in enumerate(pixels_flattened):\n",
    "        pixels_flattened[id] = h[pixel]\n",
    "    return np.reshape(pixels_flattened,(W,H))\n",
    "    \n"
   ]
  },
  {
   "cell_type": "code",
   "execution_count": 152,
   "metadata": {},
   "outputs": [],
   "source": [
    "import numba as  nb\n",
    "import numpy as np\n",
    "from numba import cuda\n",
    "\n",
    "@cuda.jit\n",
    "def countOccurencies(pixelsMatrix,occurencies):\n",
    "    x,y = cuda.grid(2)\n",
    "    if x>=pixelsMatrix.shape[0] or y>=pixelsMatrix.shape[1]:\n",
    "        return\n",
    "    cuda.atomic.add(occurencies,pixelsMatrix[x][y],1)\n",
    "\n",
    "@cuda.jit\n",
    "def calcCDF(occurencies_d,cdf):\n",
    "    acc = 0\n",
    "    for i in range(cuda.grid(1)+1):\n",
    "        acc+=occurencies_d[i]\n",
    "    cdf[cuda.grid(1)] = acc\n",
    "\n",
    "@cuda.jit\n",
    "def calcH(h,cdf_d,cdfmin_d,size_d,grayLevels_d):\n",
    "    nominator = (cdf_d[cuda.grid(1)]-nb.int32(cdfmin_d))\n",
    "\n",
    "    denominator = (size_d-cdfmin_d)\n",
    "    multiplier = (grayLevels_d-1)\n",
    "    result = round(nominator/denominator*multiplier)\n",
    "\n",
    "    h[cuda.grid(1)] = result\n",
    "    # print(\"XD\")\n",
    "\n",
    "@cuda.jit\n",
    "def changeOriginalValues(h_d,pixelsMatrix):\n",
    "    x,y = cuda.grid(2)\n",
    "    if x>=pixelsMatrix.shape[0] or y>=pixelsMatrix.shape[1]:\n",
    "        return\n",
    "    pixelsMatrix[x][y] = nb.int32( h_d[pixelsMatrix[x][y]] )\n",
    "\n",
    "\n",
    "\n",
    "\n",
    "\n",
    "def parallel(pixelsMatrix,grayLevels = 256):\n",
    "    H,W = pixelsMatrix.shape\n",
    "    blockdim = (32, 32)\n",
    "\n",
    "    griddim = (H // blockdim[0] + 1,W // blockdim[1] + 1)\n",
    "    occurencies = np.zeros(grayLevels,np.int32)\n",
    "    pixelsMatrix = pixelsMatrix.astype(np.int32)\n",
    "    pixelsMatrix_d = cuda.to_device(pixelsMatrix)\n",
    "    occurencies_d = cuda.to_device(occurencies)\n",
    "    countOccurencies[griddim,blockdim](pixelsMatrix_d,occurencies_d)\n",
    "    cdf = np.zeros(grayLevels,np.int32)\n",
    "    cdf_d = cuda.to_device(cdf)\n",
    "    threadsperblock = 32\n",
    "    blockspergrid = (grayLevels + (threadsperblock - 1)) // threadsperblock\n",
    "    calcCDF[threadsperblock,blockspergrid](occurencies_d,cdf_d)\n",
    "\n",
    "    del occurencies_d\n",
    "\n",
    "    cdfmin = next((x for x in cdf_d if x),-1)\n",
    "\n",
    "    h = np.zeros(grayLevels,np.int32)\n",
    "    h_d = cuda.to_device(h)\n",
    "    \n",
    "\n",
    "    calcH[threadsperblock,blockspergrid](h_d,cdf_d,nb.int32(cdfmin),nb.int32(H*W),nb.int32(grayLevels))\n",
    "    del cdfmin\n",
    "    del cdf_d\n",
    "    changeOriginalValues[griddim,blockdim](h_d,pixelsMatrix_d)\n",
    "    \n",
    "    del h_d\n",
    "\n",
    "\n",
    "    return pixelsMatrix_d\n",
    "\n",
    "\n"
   ]
  },
  {
   "cell_type": "code",
   "execution_count": 153,
   "metadata": {},
   "outputs": [],
   "source": [
    "hugeIMG = Image.open('huge_image.png').convert('L')\n",
    "pixelsMatrix = np.array(hugeIMG)"
   ]
  },
  {
   "cell_type": "code",
   "execution_count": 154,
   "metadata": {},
   "outputs": [
    {
     "name": "stdout",
     "output_type": "stream",
     "text": [
      "CPU times: user 346 ms, sys: 0 ns, total: 346 ms\n",
      "Wall time: 346 ms\n"
     ]
    }
   ],
   "source": [
    "%%time \n",
    "xd = parallel(pixelsMatrix)"
   ]
  },
  {
   "cell_type": "code",
   "execution_count": 155,
   "metadata": {},
   "outputs": [
    {
     "name": "stdout",
     "output_type": "stream",
     "text": [
      "CPU times: user 600 ms, sys: 0 ns, total: 600 ms\n",
      "Wall time: 599 ms\n"
     ]
    }
   ],
   "source": [
    "%%time\n",
    "sequ = sequential(pixelsMatrix)"
   ]
  },
  {
   "cell_type": "code",
   "execution_count": 156,
   "metadata": {},
   "outputs": [],
   "source": [
    "einstein = Image.open('einstein.png').convert('L')\n",
    "pixelsMatrix = np.array(einstein)"
   ]
  },
  {
   "cell_type": "code",
   "execution_count": 157,
   "metadata": {},
   "outputs": [
    {
     "name": "stdout",
     "output_type": "stream",
     "text": [
      "CPU times: user 3.23 ms, sys: 0 ns, total: 3.23 ms\n",
      "Wall time: 2.71 ms\n"
     ]
    }
   ],
   "source": [
    "%%time\n",
    "sequ = parallel(pixelsMatrix)"
   ]
  },
  {
   "cell_type": "code",
   "execution_count": 158,
   "metadata": {},
   "outputs": [
    {
     "name": "stdout",
     "output_type": "stream",
     "text": [
      "CPU times: user 13.7 ms, sys: 0 ns, total: 13.7 ms\n",
      "Wall time: 13.5 ms\n"
     ]
    }
   ],
   "source": [
    "%%time\n",
    "sequ = sequential(pixelsMatrix)"
   ]
  },
  {
   "cell_type": "code",
   "execution_count": 174,
   "metadata": {},
   "outputs": [],
   "source": [
    "stars = Image.open('stars.png').convert('L')\n",
    "pixelsMatrix = np.array(stars)"
   ]
  },
  {
   "cell_type": "code",
   "execution_count": 179,
   "metadata": {},
   "outputs": [
    {
     "name": "stdout",
     "output_type": "stream",
     "text": [
      "[[64 83 43 ... 64 64 83]\n",
      " [64 64 43 ... 64 64 64]\n",
      " [21 43 83 ... 83 64 64]\n",
      " ...\n",
      " [21 21 21 ... 43 43 64]\n",
      " [ 5 21 21 ... 43 83 43]\n",
      " [21 43 21 ... 64 64 83]]\n",
      "CPU times: user 732 ms, sys: 47.4 ms, total: 780 ms\n",
      "Wall time: 784 ms\n"
     ]
    }
   ],
   "source": [
    "%%time\n",
    "for _ in range(100):\n",
    "    sequ = parallel(pixelsMatrix)\n",
    "print(np.array(sequ))"
   ]
  },
  {
   "cell_type": "code",
   "execution_count": 180,
   "metadata": {},
   "outputs": [
    {
     "name": "stdout",
     "output_type": "stream",
     "text": [
      "[[64 83 43 ... 64 64 83]\n",
      " [64 64 43 ... 64 64 64]\n",
      " [21 43 83 ... 83 64 64]\n",
      " ...\n",
      " [21 21 21 ... 43 43 64]\n",
      " [ 5 21 21 ... 43 83 43]\n",
      " [21 43 21 ... 64 64 83]]\n",
      "CPU times: user 14.5 s, sys: 0 ns, total: 14.5 s\n",
      "Wall time: 14.5 s\n"
     ]
    }
   ],
   "source": [
    "%%time\n",
    "for _ in range(100):\n",
    "    sequ = sequential(pixelsMatrix)\n",
    "print(sequ)"
   ]
  }
 ],
 "metadata": {
  "interpreter": {
   "hash": "2b82e5924b266bff5c74a7a95ab4d97b55c6e20d4736a17307dc87be3799e75b"
  },
  "kernelspec": {
   "display_name": "Python 3.10.4 ('venv': venv)",
   "language": "python",
   "name": "python3"
  },
  "language_info": {
   "codemirror_mode": {
    "name": "ipython",
    "version": 3
   },
   "file_extension": ".py",
   "mimetype": "text/x-python",
   "name": "python",
   "nbconvert_exporter": "python",
   "pygments_lexer": "ipython3",
   "version": "3.10.4"
  },
  "orig_nbformat": 4
 },
 "nbformat": 4,
 "nbformat_minor": 2
}
