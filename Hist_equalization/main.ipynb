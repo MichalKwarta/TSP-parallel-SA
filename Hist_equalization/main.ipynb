{
 "cells": [
  {
   "cell_type": "code",
   "execution_count": 1,
   "metadata": {},
   "outputs": [],
   "source": [
    "import matplotlib.pyplot as plt\n",
    "from PIL import Image\n",
    "import numpy as np\n",
    "import numba as nb\n",
    "from numba import cuda"
   ]
  },
  {
   "cell_type": "code",
   "execution_count": 2,
   "metadata": {},
   "outputs": [],
   "source": [
    "def myseq_with_plotting(pixelsMatrix,mask= None,grayLevels = 256):\n",
    "    H,W = pixelsMatrix.shape\n",
    "    size = H*W\n",
    "    occurencies = [0.0 for _ in range(grayLevels)]\n",
    "    for row_id,row in enumerate(pixelsMatrix):\n",
    "        for pixel_id,pixel in enumerate(row):\n",
    "            if mask is None or mask[row_id][pixel_id]==0:\n",
    "                occurencies[pixel]+=1\n",
    "    cdf = [sum(occurencies[:i+1]) for i in range(grayLevels)]\n",
    "    cdfmin = next((x for x in cdf if x),-1)\n",
    "    h = [round((cdf[v]-cdfmin)/(size-cdfmin) * (grayLevels-1)) for v in range(grayLevels)]\n",
    "\n",
    "    for row_id,row in enumerate(pixelsMatrix):\n",
    "        for pixel_id,pixel in enumerate(row):\n",
    "\n",
    "            if mask is None or mask[row_id][pixel_id]==0:\n",
    "                pixelsMatrix[row_id][pixel_id] = h[pixel]\n",
    "            \n",
    "\n",
    "    occurrencies_equalized = [0.0 for _ in range(grayLevels)]\n",
    "\n",
    "    for row_id,row in enumerate(pixelsMatrix):\n",
    "        for pixel_id,pixel in enumerate(row):\n",
    "            if mask is None or mask[row_id][pixel_id]==0:\n",
    "\n",
    "\n",
    "                occurrencies_equalized[pixel]+=1\n",
    "\n",
    "\n",
    "    plt.bar(range(grayLevels),occurrencies_equalized,label = 'equalized')\n",
    "    plt.bar(range(grayLevels),occurencies,label = 'original')\n",
    "    plt.legend()\n",
    "    return Image.fromarray(pixelsMatrix)\n"
   ]
  },
  {
   "cell_type": "code",
   "execution_count": 3,
   "metadata": {},
   "outputs": [],
   "source": [
    "def sequential(pixelsMatrix,mask=None,grayLevels = 256) -> np.ndarray:\n",
    "    H,W = pixelsMatrix.shape\n",
    "    assert mask is None or mask.shape==pixelsMatrix.shape,\"Invalid mask size\"\n",
    "    size = H*W\n",
    "    occurencies = [0.0 for _ in range(grayLevels)]\n",
    "    for row_id,row in enumerate(pixelsMatrix):\n",
    "        for pixel_id,pixel in enumerate(row):\n",
    "            if mask is None or mask[row_id][pixel_id]==0:\n",
    "                occurencies[pixel]+=1\n",
    "\n",
    "    cdf = [int(sum(occurencies[:i+1])) for i in range(grayLevels)]\n",
    "    cdfmin = next((x for x in cdf if x),-1)\n",
    "\n",
    "    h = [round((cdf[v]-cdfmin)/(size-cdfmin) * (grayLevels-1)) for v in range(grayLevels)]\n",
    "\n",
    "    for row_id,row in enumerate(pixelsMatrix):\n",
    "        for pixel_id,pixel in enumerate(row):\n",
    "            if mask is None or mask[row_id][pixel_id]==0:\n",
    "                pixelsMatrix[row_id][pixel_id] = h[pixel]\n",
    "\n",
    "    return pixelsMatrix\n",
    "\n",
    "\n",
    "\n",
    "@nb.jit(parallel=True,fastmath = True,nopython = True)\n",
    "def sequential_machine_code(pixelsMatrix,mask=None,grayLevels = 256) -> np.ndarray:\n",
    "    H,W = pixelsMatrix.shape\n",
    "    size = H*W\n",
    "    occurencies = np.zeros(grayLevels,np.int32)\n",
    "\n",
    "    for row_id,row in enumerate(pixelsMatrix):\n",
    "        for pixel_id,pixel in enumerate(row):\n",
    "            if mask is None or mask[row_id][pixel_id]==0:\n",
    "                occurencies[pixel]+=1\n",
    "\n",
    "    cdf = np.zeros(grayLevels,np.int32)\n",
    "    for level in range(grayLevels):\n",
    "        cdf[level] = sum(occurencies[:level+1])\n",
    "\n",
    "    i = 0\n",
    "    cdfmin = cdf[i]\n",
    "    while cdfmin==0:\n",
    "        i+=1\n",
    "        cdfmin = cdf[i]\n",
    "    h = np.zeros(grayLevels,np.int32)\n",
    "    for v in range(grayLevels):\n",
    "        h[v] = round((cdf[v]-cdfmin)/(size-cdfmin) * (grayLevels-1)) \n",
    "\n",
    "\n",
    "    for row_id,row in enumerate(pixelsMatrix):\n",
    "        for pixel_id,pixel in enumerate(row):\n",
    "            if mask is None or mask[row_id][pixel_id]==0:\n",
    "                pixelsMatrix[row_id][pixel_id] = h[pixel]\n",
    "\n",
    "    return pixelsMatrix\n",
    "    \n"
   ]
  },
  {
   "cell_type": "code",
   "execution_count": 4,
   "metadata": {},
   "outputs": [],
   "source": [
    "@nb.jit(fastmath=True,nopython=True)\n",
    "def generate_dummy_mask(matrix:np.ndarray,threshold = 200):\n",
    "    mask = np.copy(matrix)\n",
    "    for row_id,row in enumerate(mask):\n",
    "        for pixel_id,pixel in enumerate(row):\n",
    "            mask[row_id][pixel_id] = pixel>threshold\n",
    "    return mask\n",
    "\n",
    "\n",
    "def cuda_generate_dummy_mask(matrix:np.ndarray,threshold = 200):\n",
    "    mask = np.copy(matrix)\n",
    "    mask = mask.astype(np.int32)\n",
    "\n",
    "    mask_d = cuda.to_device(mask)\n",
    "    H,W = matrix.shape\n",
    "    blockdim = (32, 32)\n",
    "    griddim = (H // blockdim[0] + 1,W // blockdim[1] + 1)\n",
    "\n",
    "    cuda_mask_kernel[griddim,blockdim](mask_d,nb.int32(threshold))\n",
    "    mask = np.array(mask_d)\n",
    "    del mask_d\n",
    "    return mask\n",
    "    \n",
    "\n",
    "@cuda.jit()\n",
    "def cuda_mask_kernel(mask,threshold_d):\n",
    "    x,y = cuda.grid(2)\n",
    "    if x>=mask.shape[0] or y>=mask.shape[1]:\n",
    "        return\n",
    "    \n",
    "    mask[x][y] = mask[x][y]>threshold_d\n",
    "\n",
    "\n"
   ]
  },
  {
   "cell_type": "code",
   "execution_count": 5,
   "metadata": {},
   "outputs": [
    {
     "name": "stderr",
     "output_type": "stream",
     "text": [
      "\n",
      "KeyboardInterrupt\n",
      "\n"
     ]
    }
   ],
   "source": [
    "woman = Image.open('bigbig.png').convert('L')\n",
    "woman = np.array(woman)\n",
    "mask = generate_dummy_mask(woman)"
   ]
  },
  {
   "cell_type": "code",
   "execution_count": null,
   "metadata": {},
   "outputs": [],
   "source": [
    "%%timeit -r 5 -n 10\n",
    "sequential_machine_code(woman,mask,256)"
   ]
  },
  {
   "cell_type": "code",
   "execution_count": null,
   "metadata": {},
   "outputs": [
    {
     "name": "stdout",
     "output_type": "stream",
     "text": [
      "Unexpected exception formatting exception. Falling back to standard exception\n"
     ]
    },
    {
     "name": "stderr",
     "output_type": "stream",
     "text": [
      "Traceback (most recent call last):\n",
      "  File \"/home/mkwarta/Studia/PR/Hist_equalization/venv/lib/python3.10/site-packages/IPython/core/interactiveshell.py\", line 3397, in run_code\n",
      "    exec(code_obj, self.user_global_ns, self.user_ns)\n",
      "  File \"/tmp/ipykernel_79763/2914620262.py\", line 1, in <cell line: 1>\n",
      "    get_ipython().run_cell_magic('timeit', '-r 5 -n 10', '\\nsequential(woman,mask,256)\\n')\n",
      "  File \"/home/mkwarta/Studia/PR/Hist_equalization/venv/lib/python3.10/site-packages/IPython/core/interactiveshell.py\", line 2357, in run_cell_magic\n",
      "    result = fn(*args, **kwargs)\n",
      "  File \"/home/mkwarta/Studia/PR/Hist_equalization/venv/lib/python3.10/site-packages/IPython/core/magics/execution.py\", line 1166, in timeit\n",
      "    all_runs = timer.repeat(repeat, number)\n",
      "  File \"/usr/lib/python3.10/timeit.py\", line 206, in repeat\n",
      "    t = self.timeit(number)\n",
      "  File \"/home/mkwarta/Studia/PR/Hist_equalization/venv/lib/python3.10/site-packages/IPython/core/magics/execution.py\", line 156, in timeit\n",
      "    timing = self.inner(it, self.timer)\n",
      "  File \"<magic-timeit>\", line 1, in inner\n",
      "  File \"/tmp/ipykernel_79763/2433232062.py\", line -1, in sequential\n",
      "KeyboardInterrupt\n",
      "\n",
      "During handling of the above exception, another exception occurred:\n",
      "\n",
      "Traceback (most recent call last):\n",
      "  File \"/home/mkwarta/Studia/PR/Hist_equalization/venv/lib/python3.10/site-packages/IPython/core/interactiveshell.py\", line 1992, in showtraceback\n",
      "    stb = self.InteractiveTB.structured_traceback(\n",
      "  File \"/home/mkwarta/Studia/PR/Hist_equalization/venv/lib/python3.10/site-packages/IPython/core/ultratb.py\", line 1118, in structured_traceback\n",
      "    return FormattedTB.structured_traceback(\n",
      "  File \"/home/mkwarta/Studia/PR/Hist_equalization/venv/lib/python3.10/site-packages/IPython/core/ultratb.py\", line 1012, in structured_traceback\n",
      "    return VerboseTB.structured_traceback(\n",
      "  File \"/home/mkwarta/Studia/PR/Hist_equalization/venv/lib/python3.10/site-packages/IPython/core/ultratb.py\", line 865, in structured_traceback\n",
      "    formatted_exception = self.format_exception_as_a_whole(etype, evalue, etb, number_of_lines_of_context,\n",
      "  File \"/home/mkwarta/Studia/PR/Hist_equalization/venv/lib/python3.10/site-packages/IPython/core/ultratb.py\", line 818, in format_exception_as_a_whole\n",
      "    frames.append(self.format_record(r))\n",
      "  File \"/home/mkwarta/Studia/PR/Hist_equalization/venv/lib/python3.10/site-packages/IPython/core/ultratb.py\", line 736, in format_record\n",
      "    result += ''.join(_format_traceback_lines(frame_info.lines, Colors, self.has_colors, lvals))\n",
      "  File \"/home/mkwarta/Studia/PR/Hist_equalization/venv/lib/python3.10/site-packages/stack_data/utils.py\", line 145, in cached_property_wrapper\n",
      "    value = obj.__dict__[self.func.__name__] = self.func(obj)\n",
      "  File \"/home/mkwarta/Studia/PR/Hist_equalization/venv/lib/python3.10/site-packages/stack_data/core.py\", line 698, in lines\n",
      "    pieces = self.included_pieces\n",
      "  File \"/home/mkwarta/Studia/PR/Hist_equalization/venv/lib/python3.10/site-packages/stack_data/utils.py\", line 145, in cached_property_wrapper\n",
      "    value = obj.__dict__[self.func.__name__] = self.func(obj)\n",
      "  File \"/home/mkwarta/Studia/PR/Hist_equalization/venv/lib/python3.10/site-packages/stack_data/core.py\", line 649, in included_pieces\n",
      "    pos = scope_pieces.index(self.executing_piece)\n",
      "  File \"/home/mkwarta/Studia/PR/Hist_equalization/venv/lib/python3.10/site-packages/stack_data/utils.py\", line 145, in cached_property_wrapper\n",
      "    value = obj.__dict__[self.func.__name__] = self.func(obj)\n",
      "  File \"/home/mkwarta/Studia/PR/Hist_equalization/venv/lib/python3.10/site-packages/stack_data/core.py\", line 628, in executing_piece\n",
      "    return only(\n",
      "  File \"/home/mkwarta/Studia/PR/Hist_equalization/venv/lib/python3.10/site-packages/executing/executing.py\", line 164, in only\n",
      "    raise NotOneValueFound('Expected one value, found 0')\n",
      "executing.executing.NotOneValueFound: Expected one value, found 0\n"
     ]
    }
   ],
   "source": [
    "%%timeit -r 5 -n 10\n",
    "\n",
    "sequential(woman,mask,256)"
   ]
  },
  {
   "cell_type": "code",
   "execution_count": null,
   "metadata": {},
   "outputs": [
    {
     "name": "stdout",
     "output_type": "stream",
     "text": [
      "59.4 ms ± 17.2 ms per loop (mean ± std. dev. of 5 runs, 10 loops each)\n"
     ]
    }
   ],
   "source": [
    "%%timeit -r 5 -n 10\n",
    "\n",
    "parallel(woman,mask,256)"
   ]
  },
  {
   "cell_type": "code",
   "execution_count": null,
   "metadata": {},
   "outputs": [],
   "source": [
    "%%timeit -r 5 -n 10\n",
    "\n",
    "mask = generate_dummy_mask(woman,50)"
   ]
  },
  {
   "cell_type": "code",
   "execution_count": null,
   "metadata": {},
   "outputs": [],
   "source": [
    "%%timeit -r 5 -n 10\n",
    "\n",
    "mask = cuda_generate_dummy_mask(woman,50)\n"
   ]
  },
  {
   "cell_type": "code",
   "execution_count": null,
   "metadata": {},
   "outputs": [],
   "source": [
    "\n",
    "\n",
    "# myseq_with_plotting(woman,mask)"
   ]
  },
  {
   "cell_type": "code",
   "execution_count": null,
   "metadata": {},
   "outputs": [],
   "source": [
    "import numba as  nb\n",
    "import numpy as np\n",
    "from numba import cuda\n",
    "\n",
    "@cuda.jit(fastmath = True)\n",
    "def countOccurencies(pixelsMatrix,occurencies,mask):\n",
    "    x,y = cuda.grid(2)\n",
    "    if x>=pixelsMatrix.shape[0] or y>=pixelsMatrix.shape[1]:\n",
    "        return\n",
    "    if mask[x][y] == 1:\n",
    "        return\n",
    "    cuda.atomic.add(occurencies,pixelsMatrix[x][y],1)\n",
    "\n",
    "@cuda.jit(fastmath = True)\n",
    "def calcCDF(occurencies_d,cdf):  # sourcery skip: sum-comprehension\n",
    "    acc = 0\n",
    "    for i in range(cuda.grid(1)+1):\n",
    "        acc+=occurencies_d[i]\n",
    "    cdf[cuda.grid(1)] = acc\n",
    "\n",
    "@cuda.jit(fastmath = True)\n",
    "def calcH(h,cdf_d,cdfmin_d,size_d,grayLevels_d):\n",
    "    nominator = (cdf_d[cuda.grid(1)]-nb.int32(cdfmin_d))\n",
    "\n",
    "    denominator = (size_d-cdfmin_d)\n",
    "    multiplier = (grayLevels_d-1)\n",
    "    result = round(nominator/denominator*multiplier)\n",
    "\n",
    "    h[cuda.grid(1)] = result\n",
    "    # print(\"XD\")\n",
    "\n",
    "@cuda.jit(fastmath = True)\n",
    "def changeOriginalValues(h_d,pixelsMatrix,mask):\n",
    "    x,y = cuda.grid(2)\n",
    "    if x>=pixelsMatrix.shape[0] or y>=pixelsMatrix.shape[1]:\n",
    "        return\n",
    "    if mask[x][y] == 1:\n",
    "        return\n",
    "    pixelsMatrix[x][y] = nb.int32( h_d[pixelsMatrix[x][y]] )\n",
    "\n",
    "\n",
    "\n",
    "\n",
    "\n",
    "def parallel(pixelsMatrix,mask,grayLevels = 256):\n",
    "    H,W = pixelsMatrix.shape\n",
    "    blockdim = (32, 32)\n",
    "    mask_d = cuda.to_device(mask)\n",
    "\n",
    "    griddim = (H // blockdim[0] + 1,W // blockdim[1] + 1)\n",
    "    occurencies = np.zeros(grayLevels,np.int32)\n",
    "    pixelsMatrix = pixelsMatrix.astype(np.int32)\n",
    "    pixelsMatrix_d = cuda.to_device(pixelsMatrix)\n",
    "    del pixelsMatrix\n",
    "    occurencies_d = cuda.to_device(occurencies)\n",
    "    countOccurencies[griddim,blockdim](pixelsMatrix_d,occurencies_d,mask_d)\n",
    "    cdf = np.zeros(grayLevels,np.int32)\n",
    "    cdf_d = cuda.to_device(cdf)\n",
    "    threadsperblock = 32\n",
    "    blockspergrid = (grayLevels + (threadsperblock - 1)) // threadsperblock\n",
    "    calcCDF[threadsperblock,blockspergrid](occurencies_d,cdf_d)\n",
    "\n",
    "    del occurencies_d\n",
    "\n",
    "    cdfmin = next((x for x in cdf_d if x),-1)\n",
    "\n",
    "    h = np.zeros(grayLevels,np.int32)\n",
    "    h_d = cuda.to_device(h)\n",
    "    \n",
    "\n",
    "    calcH[threadsperblock,blockspergrid](h_d,cdf_d,nb.int32(cdfmin),nb.int32(H*W),nb.int32(grayLevels))\n",
    "    del cdfmin\n",
    "    del cdf_d\n",
    "\n",
    "    changeOriginalValues[griddim,blockdim](h_d,pixelsMatrix_d,mask_d)\n",
    "    \n",
    "    del h_d\n",
    "\n",
    "\n",
    "    return pixelsMatrix_d\n",
    "\n",
    "\n"
   ]
  },
  {
   "cell_type": "code",
   "execution_count": null,
   "metadata": {},
   "outputs": [],
   "source": [
    "hugeIMG = Image.open('original.png').convert('L')\n",
    "pixelsMatrix = np.array(hugeIMG)\n",
    "mask = generate_dummy_mask(pixelsMatrix)\n",
    "mask = Image.open('mask.png').convert('L')\n",
    "mask = np.array(mask)"
   ]
  },
  {
   "cell_type": "code",
   "execution_count": null,
   "metadata": {},
   "outputs": [],
   "source": [
    "seq = sequential(pixelsMatrix,np.zeros(pixelsMatrix.shape))\n",
    "Image.fromarray(seq)"
   ]
  },
  {
   "cell_type": "code",
   "execution_count": null,
   "metadata": {},
   "outputs": [],
   "source": [
    "xd= parallel(pixelsMatrix,generate_dummy_mask(pixelsMatrix))\n",
    "Image.fromarray(np.array(xd).astype(np.uint8))\n"
   ]
  },
  {
   "cell_type": "code",
   "execution_count": null,
   "metadata": {},
   "outputs": [],
   "source": [
    "%%timeit -r 5 -n 10\n",
    "\n",
    "xd = parallel(pixelsMatrix,mask)"
   ]
  },
  {
   "cell_type": "code",
   "execution_count": null,
   "metadata": {},
   "outputs": [],
   "source": [
    "%%timeit -r 5 -n 10\n",
    "\n",
    "\n",
    "sequ = sequential(pixelsMatrix,mask)"
   ]
  },
  {
   "cell_type": "code",
   "execution_count": null,
   "metadata": {},
   "outputs": [],
   "source": [
    "einstein = Image.open('einstein.png').convert('L')\n",
    "pixelsMatrix = np.array(einstein)\n",
    "mask = generate_dummy_mask(pixelsMatrix)\n"
   ]
  },
  {
   "cell_type": "code",
   "execution_count": null,
   "metadata": {},
   "outputs": [],
   "source": [
    "%%timeit -r 5 -n 10\n",
    "\n",
    "\n",
    "\n",
    "sequ = parallel(pixelsMatrix,mask)"
   ]
  },
  {
   "cell_type": "code",
   "execution_count": null,
   "metadata": {},
   "outputs": [],
   "source": [
    "%%timeit -r 5 -n 10\n",
    "\n",
    "\n",
    "sequ = sequential(pixelsMatrix,mask)"
   ]
  },
  {
   "cell_type": "code",
   "execution_count": null,
   "metadata": {},
   "outputs": [],
   "source": [
    "stars = Image.open('bigbig.png').convert('L')\n",
    "pixelsMatrix = np.array(stars)\n",
    "mask = generate_dummy_mask(pixelsMatrix)\n"
   ]
  },
  {
   "cell_type": "code",
   "execution_count": null,
   "metadata": {},
   "outputs": [],
   "source": [
    "%%timeit -r 2 -n 5\n",
    "\n",
    "sequ = parallel(pixelsMatrix,mask)"
   ]
  },
  {
   "cell_type": "code",
   "execution_count": null,
   "metadata": {},
   "outputs": [],
   "source": [
    "%%timeit -r 2 -n 10\n",
    "sequ = sequential(pixelsMatrix,mask)"
   ]
  }
 ],
 "metadata": {
  "interpreter": {
   "hash": "2b82e5924b266bff5c74a7a95ab4d97b55c6e20d4736a17307dc87be3799e75b"
  },
  "kernelspec": {
   "display_name": "Python 3.10.4 ('venv': venv)",
   "language": "python",
   "name": "python3"
  },
  "language_info": {
   "codemirror_mode": {
    "name": "ipython",
    "version": 3
   },
   "file_extension": ".py",
   "mimetype": "text/x-python",
   "name": "python",
   "nbconvert_exporter": "python",
   "pygments_lexer": "ipython3",
   "version": "3.10.4"
  },
  "orig_nbformat": 4
 },
 "nbformat": 4,
 "nbformat_minor": 2
}
