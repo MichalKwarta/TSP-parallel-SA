{
 "cells": [
  {
   "cell_type": "code",
   "execution_count": null,
   "metadata": {},
   "outputs": [],
   "source": [
    "import matplotlib.pyplot as plt\n",
    "from PIL import Image\n",
    "import numpy as np\n",
    "import numba as nb\n",
    "from numba import cuda"
   ]
  },
  {
   "cell_type": "code",
   "execution_count": null,
   "metadata": {},
   "outputs": [],
   "source": [
    "def myseq_with_plotting(pixelsMatrix,mask= None,grayLevels = 256):\n",
    "    H,W = pixelsMatrix.shape\n",
    "    size = H*W\n",
    "    occurencies = [0.0 for _ in range(grayLevels)]\n",
    "    for row_id,row in enumerate(pixelsMatrix):\n",
    "        for pixel_id,pixel in enumerate(row):\n",
    "            if mask is None or mask[row_id][pixel_id]==0:\n",
    "                occurencies[pixel]+=1\n",
    "    cdf = [sum(occurencies[:i+1]) for i in range(grayLevels)]\n",
    "    cdfmin = next((x for x in cdf if x),-1)\n",
    "    h = [round((cdf[v]-cdfmin)/(size-cdfmin) * (grayLevels-1)) for v in range(grayLevels)]\n",
    "\n",
    "    for row_id,row in enumerate(pixelsMatrix):\n",
    "        for pixel_id,pixel in enumerate(row):\n",
    "\n",
    "            if mask is None or mask[row_id][pixel_id]==0:\n",
    "                pixelsMatrix[row_id][pixel_id] = h[pixel]\n",
    "            \n",
    "\n",
    "    occurrencies_equalized = [0.0 for _ in range(grayLevels)]\n",
    "\n",
    "    for row_id,row in enumerate(pixelsMatrix):\n",
    "        for pixel_id,pixel in enumerate(row):\n",
    "            if mask is None or mask[row_id][pixel_id]==0:\n",
    "\n",
    "\n",
    "                occurrencies_equalized[pixel]+=1\n",
    "\n",
    "\n",
    "    plt.bar(range(grayLevels),occurrencies_equalized,label = 'equalized')\n",
    "    plt.bar(range(grayLevels),occurencies,label = 'original')\n",
    "    plt.legend()\n",
    "    return Image.fromarray(pixelsMatrix)\n"
   ]
  },
  {
   "cell_type": "code",
   "execution_count": null,
   "metadata": {},
   "outputs": [],
   "source": [
    "def sequential(pixelMatrix,mask=None,grayLevels = 256) -> np.ndarray:\n",
    "    H,W = pixelMatrix.shape\n",
    "    assert mask is None or mask.shape==pixelMatrix.shape,\"Invalid mask size\"\n",
    "    size = H*W\n",
    "    occurencies = [0.0 for _ in range(grayLevels)]\n",
    "    for row_id,row in enumerate(pixelMatrix):\n",
    "        for pixel_id,pixel in enumerate(row):\n",
    "            if mask is None or mask[row_id][pixel_id]==0:\n",
    "                occurencies[pixel]+=1\n",
    "\n",
    "    cdf = [int(sum(occurencies[:i+1])) for i in range(grayLevels)]\n",
    "    cdfmin = next((x for x in cdf if x),-1)\n",
    "\n",
    "    h = [round((cdf[v]-cdfmin)/(size-cdfmin) * (grayLevels-1)) for v in range(grayLevels)]\n",
    "\n",
    "    for row_id,row in enumerate(pixelsMatrix):\n",
    "        for pixel_id,pixel in enumerate(row):\n",
    "            if mask is None or mask[row_id][pixel_id]==0:\n",
    "                pixelsMatrix[row_id][pixel_id] = h[pixel]\n",
    "\n",
    "    return pixelsMatrix\n",
    "    \n"
   ]
  },
  {
   "cell_type": "code",
   "execution_count": null,
   "metadata": {},
   "outputs": [],
   "source": [
    "@nb.jit(fastmath=True,nopython=True)\n",
    "def generate_dummy_mask(matrix:np.ndarray,threshold = 200):\n",
    "    mask = np.copy(matrix)\n",
    "    for row_id,row in enumerate(mask):\n",
    "        for pixel_id,pixel in enumerate(row):\n",
    "            mask[row_id][pixel_id] = pixel>threshold\n",
    "    return mask\n",
    "\n",
    "\n",
    "def cuda_generate_dummy_mask(matrix:np.ndarray,threshold = 200):\n",
    "    mask = np.copy(matrix)\n",
    "    mask = mask.astype(np.int32)\n",
    "\n",
    "    mask_d = cuda.to_device(mask)\n",
    "    H,W = matrix.shape\n",
    "    blockdim = (32, 32)\n",
    "    griddim = (H // blockdim[0] + 1,W // blockdim[1] + 1)\n",
    "\n",
    "    cuda_mask_kernel[griddim,blockdim](mask_d,nb.int32(threshold))\n",
    "    mask = np.array(mask_d)\n",
    "    del mask_d\n",
    "    return mask\n",
    "    \n",
    "\n",
    "@cuda.jit()\n",
    "def cuda_mask_kernel(mask,threshold_d):\n",
    "    x,y = cuda.grid(2)\n",
    "    if x>=mask.shape[0] or y>=mask.shape[1]:\n",
    "        return\n",
    "    \n",
    "    mask[x][y] = mask[x][y]>threshold_d\n",
    "\n",
    "\n"
   ]
  },
  {
   "cell_type": "code",
   "execution_count": null,
   "metadata": {},
   "outputs": [],
   "source": [
    "woman = Image.open('huge_image.png').convert('L')\n",
    "woman = np.array(woman)"
   ]
  },
  {
   "cell_type": "code",
   "execution_count": null,
   "metadata": {},
   "outputs": [],
   "source": [
    "mask = generate_dummy_mask(woman,50)"
   ]
  },
  {
   "cell_type": "code",
   "execution_count": null,
   "metadata": {},
   "outputs": [],
   "source": [
    "# %%timeit -r 5 -n 5\n",
    "\n",
    "# mask = cuda_generate_dummy_mask(woman,50)\n"
   ]
  },
  {
   "cell_type": "code",
   "execution_count": null,
   "metadata": {},
   "outputs": [],
   "source": [
    "\n",
    "# myseq_with_plotting(woman,mask)"
   ]
  },
  {
   "cell_type": "code",
   "execution_count": null,
   "metadata": {},
   "outputs": [],
   "source": [
    "import numba as  nb\n",
    "import numpy as np\n",
    "from numba import cuda\n",
    "\n",
    "@cuda.jit(fastmath = True)\n",
    "def countOccurencies(pixelsMatrix,occurencies,mask):\n",
    "    x,y = cuda.grid(2)\n",
    "    if x>=pixelsMatrix.shape[0] or y>=pixelsMatrix.shape[1]:\n",
    "        return\n",
    "    if mask[x][y] == 1:\n",
    "        return\n",
    "    cuda.atomic.add(occurencies,pixelsMatrix[y][x],1)\n",
    "\n",
    "@cuda.jit(fastmath = True)\n",
    "def calcCDF(occurencies_d,cdf):  # sourcery skip: sum-comprehension\n",
    "    acc = 0\n",
    "    for i in range(cuda.grid(1)+1):\n",
    "        acc+=occurencies_d[i]\n",
    "    cdf[cuda.grid(1)] = acc\n",
    "\n",
    "@cuda.jit(fastmath = True)\n",
    "def calcH(h,cdf_d,cdfmin_d,size_d,grayLevels_d):\n",
    "    nominator = (cdf_d[cuda.grid(1)]-nb.int32(cdfmin_d))\n",
    "\n",
    "    denominator = (size_d-cdfmin_d)\n",
    "    multiplier = (grayLevels_d-1)\n",
    "    result = round(nominator/denominator*multiplier)\n",
    "\n",
    "    h[cuda.grid(1)] = result\n",
    "    # print(\"XD\")\n",
    "\n",
    "@cuda.jit(fastmath = True)\n",
    "def changeOriginalValues(h_d,pixelsMatrix,mask):\n",
    "    x,y = cuda.grid(2)\n",
    "    if x>=pixelsMatrix.shape[0] or y>=pixelsMatrix.shape[1]:\n",
    "        return\n",
    "    if mask[x][y] == 1:\n",
    "        return\n",
    "    pixelsMatrix[x][y] = nb.int32( h_d[pixelsMatrix[x][y]] )\n",
    "\n",
    "\n",
    "\n",
    "\n",
    "\n",
    "def parallel(pixelsMatrix,mask,grayLevels = 256):\n",
    "    H,W = pixelsMatrix.shape\n",
    "    blockdim = (32, 32)\n",
    "    mask_d = cuda.to_device(mask)\n",
    "\n",
    "    griddim = (H // blockdim[0] + 1,W // blockdim[1] + 1)\n",
    "    occurencies = np.zeros(grayLevels,np.int32)\n",
    "    pixelsMatrix = pixelsMatrix.astype(np.int32)\n",
    "    pixelsMatrix_d = cuda.to_device(pixelsMatrix)\n",
    "    del pixelsMatrix\n",
    "    occurencies_d = cuda.to_device(occurencies)\n",
    "    countOccurencies[griddim,blockdim](pixelsMatrix_d,occurencies_d,mask_d)\n",
    "    cdf = np.zeros(grayLevels,np.int32)\n",
    "    cdf_d = cuda.to_device(cdf)\n",
    "    threadsperblock = 32\n",
    "    blockspergrid = (grayLevels + (threadsperblock - 1)) // threadsperblock\n",
    "    calcCDF[threadsperblock,blockspergrid](occurencies_d,cdf_d)\n",
    "\n",
    "    del occurencies_d\n",
    "\n",
    "    cdfmin = next((x for x in cdf_d if x),-1)\n",
    "\n",
    "    h = np.zeros(grayLevels,np.int32)\n",
    "    h_d = cuda.to_device(h)\n",
    "    \n",
    "\n",
    "    calcH[threadsperblock,blockspergrid](h_d,cdf_d,nb.int32(cdfmin),nb.int32(H*W),nb.int32(grayLevels))\n",
    "    del cdfmin\n",
    "    del cdf_d\n",
    "\n",
    "    changeOriginalValues[griddim,blockdim](h_d,pixelsMatrix_d,mask_d)\n",
    "    \n",
    "    del h_d\n",
    "\n",
    "\n",
    "    return pixelsMatrix_d\n",
    "\n",
    "\n"
   ]
  },
  {
   "cell_type": "code",
   "execution_count": null,
   "metadata": {},
   "outputs": [],
   "source": [
    "hugeIMG = Image.open('huge_image.png').convert('L')\n",
    "pixelsMatrix = np.array(hugeIMG)\n",
    "mask = generate_dummy_mask(pixelsMatrix)"
   ]
  },
  {
   "cell_type": "code",
   "execution_count": null,
   "metadata": {},
   "outputs": [],
   "source": [
    "%%timeit -r 5 -n 10\n",
    "\n",
    "xd = parallel(pixelsMatrix,mask)"
   ]
  },
  {
   "cell_type": "code",
   "execution_count": null,
   "metadata": {},
   "outputs": [],
   "source": [
    "%%timeit -r 5 -n 10\n",
    "\n",
    "\n",
    "sequ = sequential(pixelsMatrix,mask)"
   ]
  },
  {
   "cell_type": "code",
   "execution_count": null,
   "metadata": {},
   "outputs": [],
   "source": [
    "einstein = Image.open('einstein.png').convert('L')\n",
    "pixelsMatrix = np.array(einstein)\n",
    "mask = generate_dummy_mask(pixelsMatrix)\n"
   ]
  },
  {
   "cell_type": "code",
   "execution_count": null,
   "metadata": {},
   "outputs": [],
   "source": [
    "%%timeit -r 5 -n 10\n",
    "\n",
    "\n",
    "\n",
    "sequ = parallel(pixelsMatrix,mask)"
   ]
  },
  {
   "cell_type": "code",
   "execution_count": null,
   "metadata": {},
   "outputs": [],
   "source": [
    "%%timeit -r 5 -n 10\n",
    "\n",
    "\n",
    "sequ = sequential(pixelsMatrix,mask)"
   ]
  },
  {
   "cell_type": "code",
   "execution_count": null,
   "metadata": {},
   "outputs": [],
   "source": [
    "stars = Image.open('bigbig.png').convert('L')\n",
    "pixelsMatrix = np.array(stars)\n",
    "mask = generate_dummy_mask(pixelsMatrix)\n"
   ]
  },
  {
   "cell_type": "code",
   "execution_count": null,
   "metadata": {},
   "outputs": [],
   "source": [
    "%%timeit -r 2 -n 5\n",
    "\n",
    "sequ = parallel(pixelsMatrix,mask)"
   ]
  },
  {
   "cell_type": "code",
   "execution_count": null,
   "metadata": {},
   "outputs": [],
   "source": [
    "%%timeit -r 2 -n 10\n",
    "sequ = sequential(pixelsMatrix,mask)"
   ]
  }
 ],
 "metadata": {
  "interpreter": {
   "hash": "2b82e5924b266bff5c74a7a95ab4d97b55c6e20d4736a17307dc87be3799e75b"
  },
  "kernelspec": {
   "display_name": "Python 3.10.4 ('venv': venv)",
   "language": "python",
   "name": "python3"
  },
  "language_info": {
   "codemirror_mode": {
    "name": "ipython",
    "version": 3
   },
   "file_extension": ".py",
   "mimetype": "text/x-python",
   "name": "python",
   "nbconvert_exporter": "python",
   "pygments_lexer": "ipython3",
   "version": "3.10.4"
  },
  "orig_nbformat": 4
 },
 "nbformat": 4,
 "nbformat_minor": 2
}
