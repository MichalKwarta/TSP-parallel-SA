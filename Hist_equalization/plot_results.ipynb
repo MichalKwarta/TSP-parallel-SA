{
 "cells": [
  {
   "cell_type": "code",
   "execution_count": 1,
   "metadata": {},
   "outputs": [],
   "source": [
    "import pandas as pd\n",
    "import numpy as np\n",
    "import matplotlib.pyplot as plt\n",
    "import json\n",
    "RESULTS_PATH  = 'results.json'"
   ]
  },
  {
   "cell_type": "code",
   "execution_count": 2,
   "metadata": {},
   "outputs": [],
   "source": [
    "mean = lambda x: sum(x)/len(x)"
   ]
  },
  {
   "cell_type": "code",
   "execution_count": 3,
   "metadata": {},
   "outputs": [],
   "source": [
    "with open(RESULTS_PATH,'r') as f:\n",
    "    data = json.load(f)\n",
    "\n",
    "data_means = {}\n"
   ]
  },
  {
   "cell_type": "code",
   "execution_count": 4,
   "metadata": {},
   "outputs": [],
   "source": [
    "data_means = {}\n",
    "\n",
    "for file,file_results in data.items():\n",
    "    data_means[file] = {'seq':mean(file_results['seq']) ,'cuda':mean(file_results['cuda'][1:])    }    \n"
   ]
  },
  {
   "cell_type": "code",
   "execution_count": 5,
   "metadata": {},
   "outputs": [],
   "source": [
    "df = [  [file,data_means[file]['seq'],data_means[file]['cuda']]  for file in data_means ]\n",
    "\n",
    "df = pd.DataFrame(df,columns=['filename','sequential','cuda'],index=None)\n",
    "df = df.set_index('filename')\n",
    "df['speedup'] = round(df['sequential']/df['cuda'],1)\n",
    "df = df.sort_values('speedup')\n"
   ]
  },
  {
   "cell_type": "code",
   "execution_count": 6,
   "metadata": {},
   "outputs": [
    {
     "data": {
      "text/plain": [
       "<AxesSubplot:title={'center':'Wykres przyspieszenia'}, xlabel='Plik', ylabel='Przyspieszenie'>"
      ]
     },
     "execution_count": 6,
     "metadata": {},
     "output_type": "execute_result"
    },
    {
     "data": {
      "image/png": "[encoded data removed]",
      "text/plain": [
       "<Figure size 720x720 with 1 Axes>"
      ]
     },
     "metadata": {
      "needs_background": "light"
     },
     "output_type": "display_data"
    }
   ],
   "source": [
    "df['speedup'].plot(kind='bar',figsize=(10,10),ylabel='Przyspieszenie',xlabel='Plik',title='Wykres przyspieszenia')"
   ]
  },
  {
   "cell_type": "code",
   "execution_count": 7,
   "metadata": {},
   "outputs": [
    {
     "data": {
      "text/html": [
       "<div>\n",
       "<style scoped>\n",
       "    .dataframe tbody tr th:only-of-type {\n",
       "        vertical-align: middle;\n",
       "    }\n",
       "\n",
       "    .dataframe tbody tr th {\n",
       "        vertical-align: top;\n",
       "    }\n",
       "\n",
       "    .dataframe thead th {\n",
       "        text-align: right;\n",
       "    }\n",
       "</style>\n",
       "<table border=\"1\" class=\"dataframe\">\n",
       "  <thead>\n",
       "    <tr style=\"text-align: right;\">\n",
       "      <th></th>\n",
       "      <th>sequential</th>\n",
       "      <th>cuda</th>\n",
       "      <th>speedup</th>\n",
       "    </tr>\n",
       "    <tr>\n",
       "      <th>filename</th>\n",
       "      <th></th>\n",
       "      <th></th>\n",
       "      <th></th>\n",
       "    </tr>\n",
       "  </thead>\n",
       "  <tbody>\n",
       "    <tr>\n",
       "      <th>182x182.png</th>\n",
       "      <td>0.12040</td>\n",
       "      <td>0.002053</td>\n",
       "      <td>58.7</td>\n",
       "    </tr>\n",
       "    <tr>\n",
       "      <th>264x300.png</th>\n",
       "      <td>0.26085</td>\n",
       "      <td>0.004000</td>\n",
       "      <td>65.2</td>\n",
       "    </tr>\n",
       "    <tr>\n",
       "      <th>600x400.png</th>\n",
       "      <td>0.80845</td>\n",
       "      <td>0.008684</td>\n",
       "      <td>93.1</td>\n",
       "    </tr>\n",
       "    <tr>\n",
       "      <th>2000x924.png</th>\n",
       "      <td>6.61840</td>\n",
       "      <td>0.016105</td>\n",
       "      <td>410.9</td>\n",
       "    </tr>\n",
       "    <tr>\n",
       "      <th>3000x3000.png</th>\n",
       "      <td>31.39295</td>\n",
       "      <td>0.046684</td>\n",
       "      <td>672.5</td>\n",
       "    </tr>\n",
       "  </tbody>\n",
       "</table>\n",
       "</div>"
      ],
      "text/plain": [
       "               sequential      cuda  speedup\n",
       "filename                                    \n",
       "182x182.png       0.12040  0.002053     58.7\n",
       "264x300.png       0.26085  0.004000     65.2\n",
       "600x400.png       0.80845  0.008684     93.1\n",
       "2000x924.png      6.61840  0.016105    410.9\n",
       "3000x3000.png    31.39295  0.046684    672.5"
      ]
     },
     "execution_count": 7,
     "metadata": {},
     "output_type": "execute_result"
    }
   ],
   "source": [
    "df"
   ]
  }
 ],
 "metadata": {
  "interpreter": {
   "hash": "53777d873e252fdd384e2c0fe158c0c8628f2277d0bac08ea2a6d9fc8767bb36"
  },
  "kernelspec": {
   "display_name": "Python 3.10.4 ('venv': venv)",
   "language": "python",
   "name": "python3"
  },
  "language_info": {
   "codemirror_mode": {
    "name": "ipython",
    "version": 3
   },
   "file_extension": ".py",
   "mimetype": "text/x-python",
   "name": "python",
   "nbconvert_exporter": "python",
   "pygments_lexer": "ipython3",
   "version": "3.10.4"
  },
  "orig_nbformat": 4
 },
 "nbformat": 4,
 "nbformat_minor": 2
}
